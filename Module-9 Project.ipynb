{
 "cells": [
  {
   "cell_type": "markdown",
   "id": "5b1ab683-b433-4623-be58-fce15f3e4003",
   "metadata": {},
   "source": [
    "#### M-9 Mini Project : English-to-Other Language Translator"
   ]
  },
  {
   "cell_type": "markdown",
   "id": "2e9f30e3-89bd-4c7c-82f3-8de52d692867",
   "metadata": {},
   "source": [
    "#### English to French Translation"
   ]
  },
  {
   "cell_type": "code",
   "execution_count": 4,
   "id": "5d36aac7-74fc-4486-849a-f372812d51ef",
   "metadata": {},
   "outputs": [
    {
     "name": "stdout",
     "output_type": "stream",
     "text": [
      "Requirement already satisfied: sentencepiece in c:\\users\\michelle\\anaconda3\\lib\\site-packages (0.2.0)\n"
     ]
    }
   ],
   "source": [
    "!pip install sentencepiece"
   ]
  },
  {
   "cell_type": "code",
   "execution_count": 6,
   "id": "0ffd35b6-64fb-40c9-b8dc-9208a17452a8",
   "metadata": {},
   "outputs": [
    {
     "name": "stdout",
     "output_type": "stream",
     "text": [
      "Requirement already satisfied: sacremoses in c:\\users\\michelle\\anaconda3\\lib\\site-packages (0.1.1)\n",
      "Requirement already satisfied: regex in c:\\users\\michelle\\anaconda3\\lib\\site-packages (from sacremoses) (2024.9.11)\n",
      "Requirement already satisfied: click in c:\\users\\michelle\\anaconda3\\lib\\site-packages (from sacremoses) (8.1.7)\n",
      "Requirement already satisfied: joblib in c:\\users\\michelle\\anaconda3\\lib\\site-packages (from sacremoses) (1.4.2)\n",
      "Requirement already satisfied: tqdm in c:\\users\\michelle\\anaconda3\\lib\\site-packages (from sacremoses) (4.66.5)\n",
      "Requirement already satisfied: colorama in c:\\users\\michelle\\anaconda3\\lib\\site-packages (from click->sacremoses) (0.4.6)\n"
     ]
    }
   ],
   "source": [
    "!pip install sacremoses"
   ]
  },
  {
   "cell_type": "code",
   "execution_count": 19,
   "id": "9fba16f7-a58e-446a-a4f5-8d5eada30e39",
   "metadata": {},
   "outputs": [
    {
     "name": "stdout",
     "output_type": "stream",
     "text": [
      "Translated (English to Hindi ): Guten Morgen, Mam.\n"
     ]
    }
   ],
   "source": [
    "from transformers import MarianMTModel, MarianTokenizer\n",
    "\n",
    "model_name = 'Helsinki-NLP/opus-mt-en-de'\n",
    "\n",
    "tokenizer = MarianTokenizer.from_pretrained(model_name)\n",
    "model = MarianMTModel.from_pretrained(model_name)\n",
    "\n",
    "text = \"Good Morning Mam.\" \n",
    "\n",
    "inputs = tokenizer(text, return_tensors=\"pt\", padding=True)\n",
    "\n",
    "translated = model.generate(**inputs)\n",
    "\n",
    "output = tokenizer.decode(translated[0], skip_special_tokens=True)\n",
    "\n",
    "print(\"Translated (English to Hindi ):\", output)"
   ]
  },
  {
   "cell_type": "code",
   "execution_count": 21,
   "id": "081f08cc-54f8-43b3-b913-379d894a9541",
   "metadata": {},
   "outputs": [
    {
     "data": {
      "application/vnd.jupyter.widget-view+json": {
       "model_id": "aceec96ef7e4402496b7139e10a79aea",
       "version_major": 2,
       "version_minor": 0
      },
      "text/plain": [
       "tokenizer_config.json:   0%|          | 0.00/42.0 [00:00<?, ?B/s]"
      ]
     },
     "metadata": {},
     "output_type": "display_data"
    },
    {
     "name": "stderr",
     "output_type": "stream",
     "text": [
      "C:\\Users\\Michelle\\anaconda3\\Lib\\site-packages\\huggingface_hub\\file_download.py:143: UserWarning: `huggingface_hub` cache-system uses symlinks by default to efficiently store duplicated files but your machine does not support them in C:\\Users\\Michelle\\.cache\\huggingface\\hub\\models--Helsinki-NLP--opus-mt-en-fr. Caching files will still work but in a degraded version that might require more space on your disk. This warning can be disabled by setting the `HF_HUB_DISABLE_SYMLINKS_WARNING` environment variable. For more details, see https://huggingface.co/docs/huggingface_hub/how-to-cache#limitations.\n",
      "To support symlinks on Windows, you either need to activate Developer Mode or to run Python as an administrator. In order to activate developer mode, see this article: https://docs.microsoft.com/en-us/windows/apps/get-started/enable-your-device-for-development\n",
      "  warnings.warn(message)\n"
     ]
    },
    {
     "data": {
      "application/vnd.jupyter.widget-view+json": {
       "model_id": "92b5bf96b986436fbf8624fe02669568",
       "version_major": 2,
       "version_minor": 0
      },
      "text/plain": [
       "source.spm:   0%|          | 0.00/778k [00:00<?, ?B/s]"
      ]
     },
     "metadata": {},
     "output_type": "display_data"
    },
    {
     "data": {
      "application/vnd.jupyter.widget-view+json": {
       "model_id": "2fa94815f2ae4701955a488c3ce9aa73",
       "version_major": 2,
       "version_minor": 0
      },
      "text/plain": [
       "target.spm:   0%|          | 0.00/802k [00:00<?, ?B/s]"
      ]
     },
     "metadata": {},
     "output_type": "display_data"
    },
    {
     "data": {
      "application/vnd.jupyter.widget-view+json": {
       "model_id": "d35d9c75a94545e3a21bee2c48d802dc",
       "version_major": 2,
       "version_minor": 0
      },
      "text/plain": [
       "vocab.json: 0.00B [00:00, ?B/s]"
      ]
     },
     "metadata": {},
     "output_type": "display_data"
    },
    {
     "data": {
      "application/vnd.jupyter.widget-view+json": {
       "model_id": "f456b84acd0d49c9a2d932c30dccf4af",
       "version_major": 2,
       "version_minor": 0
      },
      "text/plain": [
       "config.json: 0.00B [00:00, ?B/s]"
      ]
     },
     "metadata": {},
     "output_type": "display_data"
    },
    {
     "data": {
      "application/vnd.jupyter.widget-view+json": {
       "model_id": "846ad29fbae4435daabf8542200aff50",
       "version_major": 2,
       "version_minor": 0
      },
      "text/plain": [
       "pytorch_model.bin:   0%|          | 0.00/301M [00:00<?, ?B/s]"
      ]
     },
     "metadata": {},
     "output_type": "display_data"
    },
    {
     "data": {
      "application/vnd.jupyter.widget-view+json": {
       "model_id": "6ef7db13c97141edbf28d710a8f82485",
       "version_major": 2,
       "version_minor": 0
      },
      "text/plain": [
       "generation_config.json:   0%|          | 0.00/293 [00:00<?, ?B/s]"
      ]
     },
     "metadata": {},
     "output_type": "display_data"
    },
    {
     "name": "stdout",
     "output_type": "stream",
     "text": [
      "Translated (English to Hindi): Bonjour Mam.\n"
     ]
    }
   ],
   "source": [
    "from transformers import MarianMTModel, MarianTokenizer\n",
    "\n",
    "# Load the English-to-French model\n",
    "model_name = 'Helsinki-NLP/opus-mt-en-fr'\n",
    "tokenizer = MarianTokenizer.from_pretrained(model_name)\n",
    "model = MarianMTModel.from_pretrained(model_name)\n",
    "\n",
    "# Input text\n",
    "text = \"Good Morning Mam.\"\n",
    "\n",
    "# Tokenize and generate translation\n",
    "inputs = tokenizer(text, return_tensors=\"pt\", padding=True)\n",
    "translated = model.generate(**inputs)\n",
    "output = tokenizer.decode(translated[0], skip_special_tokens=True)\n",
    "\n",
    "# Print the result\n",
    "print(\"Translated (English to Hindi):\", output)"
   ]
  },
  {
   "cell_type": "markdown",
   "id": "bbe21670-c33f-43c5-bf27-2c5f5c56001f",
   "metadata": {},
   "source": [
    "#### English to Hindi Translation:"
   ]
  },
  {
   "cell_type": "code",
   "execution_count": 26,
   "id": "3dcdb6e6-5dbb-401c-bc0e-fa01c8c17781",
   "metadata": {},
   "outputs": [
    {
     "name": "stdout",
     "output_type": "stream",
     "text": [
      "Translated (English to Hindi): नमस्कार माम.\n"
     ]
    }
   ],
   "source": [
    "from transformers import MarianMTModel, MarianTokenizer\n",
    "\n",
    "model_name = 'Helsinki-NLP/opus-mt-en-hi'  # Hindi translation model\n",
    "tokenizer = MarianTokenizer.from_pretrained(model_name)\n",
    "model = MarianMTModel.from_pretrained(model_name)\n",
    "\n",
    "text = \"Good Morning Mam.\"\n",
    "inputs = tokenizer(text, return_tensors=\"pt\", padding=True)\n",
    "\n",
    "translated = model.generate(**inputs)\n",
    "output = tokenizer.decode(translated[0], skip_special_tokens=True)\n",
    "\n",
    "print(\"Translated (English to Hindi):\", output)"
   ]
  },
  {
   "cell_type": "code",
   "execution_count": null,
   "id": "bfec0d44-af38-4cba-a49a-9c56f5091a16",
   "metadata": {},
   "outputs": [],
   "source": []
  }
 ],
 "metadata": {
  "kernelspec": {
   "display_name": "Python [conda env:base] *",
   "language": "python",
   "name": "conda-base-py"
  },
  "language_info": {
   "codemirror_mode": {
    "name": "ipython",
    "version": 3
   },
   "file_extension": ".py",
   "mimetype": "text/x-python",
   "name": "python",
   "nbconvert_exporter": "python",
   "pygments_lexer": "ipython3",
   "version": "3.12.7"
  }
 },
 "nbformat": 4,
 "nbformat_minor": 5
}
